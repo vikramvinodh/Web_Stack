{
 "cells": [
  {
   "cell_type": "code",
   "execution_count": 15,
   "metadata": {},
   "outputs": [],
   "source": [
    "from lxml import etree\n",
    "\n",
    "xml_tree = etree.parse(\"christ.xml\") # type: ignore\n",
    "\n",
    "xsl_transform = etree.XSLT(etree.parse(\"christ.xsl\")) # type: ignore\n",
    "\n",
    "html_tree = xsl_transform(xml_tree)\n",
    "\n",
    "with open(\"xmlparser.html\", \"wb\") as output_file:\n",
    "    output_file.write(etree.tostring(html_tree, pretty_print=True)) # type: ignore\n"
   ]
  }
 ],
 "metadata": {
  "kernelspec": {
   "display_name": "Python 3",
   "language": "python",
   "name": "python3"
  },
  "language_info": {
   "codemirror_mode": {
    "name": "ipython",
    "version": 3
   },
   "file_extension": ".py",
   "mimetype": "text/x-python",
   "name": "python",
   "nbconvert_exporter": "python",
   "pygments_lexer": "ipython3",
   "version": "3.9.6"
  },
  "orig_nbformat": 4
 },
 "nbformat": 4,
 "nbformat_minor": 2
}
